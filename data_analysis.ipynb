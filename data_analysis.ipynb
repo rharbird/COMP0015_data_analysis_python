{
  "cells": [
    {
      "source": [
        "# Mini-project: Data analysis\n",
        "\n",
        "The aim of this project is to give you some insight into using the Pandas library for analysing data.\n",
        "\n",
        "## How to use this notebook\n",
        "\n",
        "A few days ago you you might not have heard of Jupyter Notebooks and yet here you are having opened your first notebook and about to use it.\n",
        "\n",
        "Each of the following sections (called 'cells' in Jupyter terminology) has a brief explanation of the purpose of the activity, the code contained and how to run it. \n",
        "\n",
        "Some of the cells contain code, there are usually denoted by a marker such as ```In [1]```. There are a number of ways to run the code in these cells: \n",
        "\n",
        "- Use the menu at the top of the notebook and select Cell > Run Cells and Select Below\n",
        "- Look for the run icon and press it (this may be just below the cell and/or in the menu bar at the top of the page)\n",
        "- Click into the cell itself and then press the Ctrl key on your computer and hold that while you also press the Enter key\n",
        "\n",
        "## Analysing European Commission (EC) data\n",
        "\n",
        "The European Commission makes its data available on the Eurostat database site. In this tutorial we will look at public expenditure on education by member states. A copy of the [dataset](educ_figdp_1_Data.csv) is available with this exercise for your convenience, the data has been tidied up to make it easier to analyse. You can browse the European [data](https://ec.europa.eu/eurostat/data/database) if you are interested.\n"
      ],
      "cell_type": "markdown",
      "metadata": {}
    },
    {
      "source": [
        "## Reading in the data\n",
        "\n",
        "Let's start by specifying the tools we will be using (pandas, numpy and ploty) and reading in the data file. The data file is a series of comma separated values and we can read the file directly into a pandas DataFrame called edu. \n",
        "\n",
        "The ```na_values``` option will ignore empty fields which contain a colon. We can specify the columns we want to read in too, the rest will be ignored."
      ],
      "cell_type": "markdown",
      "metadata": {}
    },
    {
      "source": [
        "import pandas as pd\n",
        "import numpy as np\n",
        "import plotly.express as px\n",
        "\n",
        "edu = pd.read_csv('educ_figdp_1_Data.csv', \n",
        "                  na_values = ':',\n",
        "                  usecols = ['TIME', 'GEO', 'Value'] )\n",
        "edu\n"
      ],
      "cell_type": "code",
      "metadata": {},
      "execution_count": 3,
      "outputs": [
        {
          "output_type": "execute_result",
          "data": {
            "text/plain": [
              "     TIME                            GEO  Value\n",
              "0    2000  European Union (28 countries)    NaN\n",
              "1    2001  European Union (28 countries)    NaN\n",
              "2    2002  European Union (28 countries)   5.00\n",
              "3    2003  European Union (28 countries)   5.03\n",
              "4    2004  European Union (28 countries)   4.95\n",
              "..    ...                            ...    ...\n",
              "379  2007                        Finland   5.90\n",
              "380  2008                        Finland   6.10\n",
              "381  2009                        Finland   6.81\n",
              "382  2010                        Finland   6.85\n",
              "383  2011                        Finland   6.76\n",
              "\n",
              "[384 rows x 3 columns]"
            ],
            "text/html": "<div>\n<style scoped>\n    .dataframe tbody tr th:only-of-type {\n        vertical-align: middle;\n    }\n\n    .dataframe tbody tr th {\n        vertical-align: top;\n    }\n\n    .dataframe thead th {\n        text-align: right;\n    }\n</style>\n<table border=\"1\" class=\"dataframe\">\n  <thead>\n    <tr style=\"text-align: right;\">\n      <th></th>\n      <th>TIME</th>\n      <th>GEO</th>\n      <th>Value</th>\n    </tr>\n  </thead>\n  <tbody>\n    <tr>\n      <th>0</th>\n      <td>2000</td>\n      <td>European Union (28 countries)</td>\n      <td>NaN</td>\n    </tr>\n    <tr>\n      <th>1</th>\n      <td>2001</td>\n      <td>European Union (28 countries)</td>\n      <td>NaN</td>\n    </tr>\n    <tr>\n      <th>2</th>\n      <td>2002</td>\n      <td>European Union (28 countries)</td>\n      <td>5.00</td>\n    </tr>\n    <tr>\n      <th>3</th>\n      <td>2003</td>\n      <td>European Union (28 countries)</td>\n      <td>5.03</td>\n    </tr>\n    <tr>\n      <th>4</th>\n      <td>2004</td>\n      <td>European Union (28 countries)</td>\n      <td>4.95</td>\n    </tr>\n    <tr>\n      <th>...</th>\n      <td>...</td>\n      <td>...</td>\n      <td>...</td>\n    </tr>\n    <tr>\n      <th>379</th>\n      <td>2007</td>\n      <td>Finland</td>\n      <td>5.90</td>\n    </tr>\n    <tr>\n      <th>380</th>\n      <td>2008</td>\n      <td>Finland</td>\n      <td>6.10</td>\n    </tr>\n    <tr>\n      <th>381</th>\n      <td>2009</td>\n      <td>Finland</td>\n      <td>6.81</td>\n    </tr>\n    <tr>\n      <th>382</th>\n      <td>2010</td>\n      <td>Finland</td>\n      <td>6.85</td>\n    </tr>\n    <tr>\n      <th>383</th>\n      <td>2011</td>\n      <td>Finland</td>\n      <td>6.76</td>\n    </tr>\n  </tbody>\n</table>\n<p>384 rows × 3 columns</p>\n</div>"
          },
          "metadata": {},
          "execution_count": 3
        }
      ]
    },
    {
      "source": [
        "We can also use ```edu.head()``` and ```edu.tail()``` to look at the data and find out about the general characteristics by using ```edu.describe``` which tells us the mean, standard deviation, minimum and maximum values."
      ],
      "cell_type": "markdown",
      "metadata": {}
    },
    {
      "cell_type": "code",
      "execution_count": 4,
      "metadata": {},
      "outputs": [
        {
          "output_type": "execute_result",
          "data": {
            "text/plain": [
              "   TIME                            GEO  Value\n",
              "0  2000  European Union (28 countries)    NaN\n",
              "1  2001  European Union (28 countries)    NaN\n",
              "2  2002  European Union (28 countries)   5.00\n",
              "3  2003  European Union (28 countries)   5.03\n",
              "4  2004  European Union (28 countries)   4.95"
            ],
            "text/html": "<div>\n<style scoped>\n    .dataframe tbody tr th:only-of-type {\n        vertical-align: middle;\n    }\n\n    .dataframe tbody tr th {\n        vertical-align: top;\n    }\n\n    .dataframe thead th {\n        text-align: right;\n    }\n</style>\n<table border=\"1\" class=\"dataframe\">\n  <thead>\n    <tr style=\"text-align: right;\">\n      <th></th>\n      <th>TIME</th>\n      <th>GEO</th>\n      <th>Value</th>\n    </tr>\n  </thead>\n  <tbody>\n    <tr>\n      <th>0</th>\n      <td>2000</td>\n      <td>European Union (28 countries)</td>\n      <td>NaN</td>\n    </tr>\n    <tr>\n      <th>1</th>\n      <td>2001</td>\n      <td>European Union (28 countries)</td>\n      <td>NaN</td>\n    </tr>\n    <tr>\n      <th>2</th>\n      <td>2002</td>\n      <td>European Union (28 countries)</td>\n      <td>5.00</td>\n    </tr>\n    <tr>\n      <th>3</th>\n      <td>2003</td>\n      <td>European Union (28 countries)</td>\n      <td>5.03</td>\n    </tr>\n    <tr>\n      <th>4</th>\n      <td>2004</td>\n      <td>European Union (28 countries)</td>\n      <td>4.95</td>\n    </tr>\n  </tbody>\n</table>\n</div>"
          },
          "metadata": {},
          "execution_count": 4
        }
      ],
      "source": [
        "edu.head()"
      ]
    },
    {
      "cell_type": "code",
      "execution_count": 19,
      "metadata": {},
      "outputs": [
        {
          "output_type": "execute_result",
          "data": {
            "text/plain": [
              "     TIME      GEO  Value\n",
              "379  2007  Finland   5.90\n",
              "380  2008  Finland   6.10\n",
              "381  2009  Finland   6.81\n",
              "382  2010  Finland   6.85\n",
              "383  2011  Finland   6.76"
            ],
            "text/html": "<div>\n<style scoped>\n    .dataframe tbody tr th:only-of-type {\n        vertical-align: middle;\n    }\n\n    .dataframe tbody tr th {\n        vertical-align: top;\n    }\n\n    .dataframe thead th {\n        text-align: right;\n    }\n</style>\n<table border=\"1\" class=\"dataframe\">\n  <thead>\n    <tr style=\"text-align: right;\">\n      <th></th>\n      <th>TIME</th>\n      <th>GEO</th>\n      <th>Value</th>\n    </tr>\n  </thead>\n  <tbody>\n    <tr>\n      <th>379</th>\n      <td>2007</td>\n      <td>Finland</td>\n      <td>5.90</td>\n    </tr>\n    <tr>\n      <th>380</th>\n      <td>2008</td>\n      <td>Finland</td>\n      <td>6.10</td>\n    </tr>\n    <tr>\n      <th>381</th>\n      <td>2009</td>\n      <td>Finland</td>\n      <td>6.81</td>\n    </tr>\n    <tr>\n      <th>382</th>\n      <td>2010</td>\n      <td>Finland</td>\n      <td>6.85</td>\n    </tr>\n    <tr>\n      <th>383</th>\n      <td>2011</td>\n      <td>Finland</td>\n      <td>6.76</td>\n    </tr>\n  </tbody>\n</table>\n</div>"
          },
          "metadata": {},
          "execution_count": 19
        }
      ],
      "source": [
        "edu.tail()"
      ]
    },
    {
      "cell_type": "code",
      "execution_count": 23,
      "metadata": {},
      "outputs": [
        {
          "output_type": "execute_result",
          "data": {
            "text/plain": [
              "count    361.000000\n",
              "mean       5.203989\n",
              "std        1.021694\n",
              "min        2.880000\n",
              "25%        4.620000\n",
              "50%        5.060000\n",
              "75%        5.660000\n",
              "max        8.810000\n",
              "Name: Value, dtype: float64"
            ]
          },
          "metadata": {},
          "execution_count": 23
        }
      ],
      "source": [
        "edu['Value'].describe()\n"
      ]
    },
    {
      "source": [
        "## Selecting data\n",
        "\n",
        "If we want to select a subset of data then we can specify columns and, if necessary the range of rows.\n"
      ],
      "cell_type": "markdown",
      "metadata": {}
    },
    {
      "cell_type": "code",
      "execution_count": 25,
      "metadata": {},
      "outputs": [
        {
          "output_type": "execute_result",
          "data": {
            "text/plain": [
              "0       NaN\n",
              "1       NaN\n",
              "2      5.00\n",
              "3      5.03\n",
              "4      4.95\n",
              "       ... \n",
              "379    5.90\n",
              "380    6.10\n",
              "381    6.81\n",
              "382    6.85\n",
              "383    6.76\n",
              "Name: Value, Length: 384, dtype: float64"
            ]
          },
          "metadata": {},
          "execution_count": 25
        }
      ],
      "source": [
        "edu['Value']"
      ]
    },
    {
      "source": [
        "Selecting a range of rows:"
      ],
      "cell_type": "markdown",
      "metadata": {}
    },
    {
      "cell_type": "code",
      "execution_count": 26,
      "metadata": {},
      "outputs": [
        {
          "output_type": "execute_result",
          "data": {
            "text/plain": [
              "    TIME                            GEO  Value\n",
              "10  2010  European Union (28 countries)   5.41\n",
              "11  2011  European Union (28 countries)   5.25\n",
              "12  2000  European Union (27 countries)   4.91\n",
              "13  2001  European Union (27 countries)   4.99"
            ],
            "text/html": "<div>\n<style scoped>\n    .dataframe tbody tr th:only-of-type {\n        vertical-align: middle;\n    }\n\n    .dataframe tbody tr th {\n        vertical-align: top;\n    }\n\n    .dataframe thead th {\n        text-align: right;\n    }\n</style>\n<table border=\"1\" class=\"dataframe\">\n  <thead>\n    <tr style=\"text-align: right;\">\n      <th></th>\n      <th>TIME</th>\n      <th>GEO</th>\n      <th>Value</th>\n    </tr>\n  </thead>\n  <tbody>\n    <tr>\n      <th>10</th>\n      <td>2010</td>\n      <td>European Union (28 countries)</td>\n      <td>5.41</td>\n    </tr>\n    <tr>\n      <th>11</th>\n      <td>2011</td>\n      <td>European Union (28 countries)</td>\n      <td>5.25</td>\n    </tr>\n    <tr>\n      <th>12</th>\n      <td>2000</td>\n      <td>European Union (27 countries)</td>\n      <td>4.91</td>\n    </tr>\n    <tr>\n      <th>13</th>\n      <td>2001</td>\n      <td>European Union (27 countries)</td>\n      <td>4.99</td>\n    </tr>\n  </tbody>\n</table>\n</div>"
          },
          "metadata": {},
          "execution_count": 26
        }
      ],
      "source": [
        "edu[10:14]"
      ]
    },
    {
      "cell_type": "code",
      "execution_count": 44,
      "metadata": {},
      "outputs": [
        {
          "output_type": "execute_result",
          "data": {
            "text/plain": [
              "    TIME                            GEO  Value\n",
              "10  2010  European Union (28 countries)   5.41\n",
              "11  2011  European Union (28 countries)   5.25\n",
              "12  2000  European Union (27 countries)   4.91\n",
              "13  2001  European Union (27 countries)   4.99"
            ],
            "text/html": "<div>\n<style scoped>\n    .dataframe tbody tr th:only-of-type {\n        vertical-align: middle;\n    }\n\n    .dataframe tbody tr th {\n        vertical-align: top;\n    }\n\n    .dataframe thead th {\n        text-align: right;\n    }\n</style>\n<table border=\"1\" class=\"dataframe\">\n  <thead>\n    <tr style=\"text-align: right;\">\n      <th></th>\n      <th>TIME</th>\n      <th>GEO</th>\n      <th>Value</th>\n    </tr>\n  </thead>\n  <tbody>\n    <tr>\n      <th>10</th>\n      <td>2010</td>\n      <td>European Union (28 countries)</td>\n      <td>5.41</td>\n    </tr>\n    <tr>\n      <th>11</th>\n      <td>2011</td>\n      <td>European Union (28 countries)</td>\n      <td>5.25</td>\n    </tr>\n    <tr>\n      <th>12</th>\n      <td>2000</td>\n      <td>European Union (27 countries)</td>\n      <td>4.91</td>\n    </tr>\n    <tr>\n      <th>13</th>\n      <td>2001</td>\n      <td>European Union (27 countries)</td>\n      <td>4.99</td>\n    </tr>\n  </tbody>\n</table>\n</div>"
          },
          "metadata": {},
          "execution_count": 44
        }
      ],
      "source": [
        "edu.iloc[10:14]"
      ]
    },
    {
      "source": [
        "Selecting a range of rows from a particular column:"
      ],
      "cell_type": "markdown",
      "metadata": {}
    },
    {
      "cell_type": "code",
      "execution_count": 46,
      "metadata": {},
      "outputs": [
        {
          "output_type": "execute_result",
          "data": {
            "text/plain": [
              "    TIME      GEO\n",
              "90  2006  Belgium\n",
              "91  2007  Belgium\n",
              "92  2008  Belgium\n",
              "93  2009  Belgium\n",
              "94  2010  Belgium"
            ],
            "text/html": "<div>\n<style scoped>\n    .dataframe tbody tr th:only-of-type {\n        vertical-align: middle;\n    }\n\n    .dataframe tbody tr th {\n        vertical-align: top;\n    }\n\n    .dataframe thead th {\n        text-align: right;\n    }\n</style>\n<table border=\"1\" class=\"dataframe\">\n  <thead>\n    <tr style=\"text-align: right;\">\n      <th></th>\n      <th>TIME</th>\n      <th>GEO</th>\n    </tr>\n  </thead>\n  <tbody>\n    <tr>\n      <th>90</th>\n      <td>2006</td>\n      <td>Belgium</td>\n    </tr>\n    <tr>\n      <th>91</th>\n      <td>2007</td>\n      <td>Belgium</td>\n    </tr>\n    <tr>\n      <th>92</th>\n      <td>2008</td>\n      <td>Belgium</td>\n    </tr>\n    <tr>\n      <th>93</th>\n      <td>2009</td>\n      <td>Belgium</td>\n    </tr>\n    <tr>\n      <th>94</th>\n      <td>2010</td>\n      <td>Belgium</td>\n    </tr>\n  </tbody>\n</table>\n</div>"
          },
          "metadata": {},
          "execution_count": 46
        }
      ],
      "source": [
        "edu.loc[90:94, ['TIME', 'GEO']]\n"
      ]
    },
    {
      "source": [
        "## Filtering data\n",
        "We can filter data by specifying a condition, the result of which may be either True or False. This is commonly known as a filter. Let's say we want to find all countries where the expenditure on education is greater than 6.5% of GDP."
      ],
      "cell_type": "code",
      "metadata": {},
      "execution_count": null,
      "outputs": []
    },
    {
      "cell_type": "code",
      "execution_count": 48,
      "metadata": {},
      "outputs": [
        {
          "output_type": "execute_result",
          "data": {
            "text/plain": [
              "     TIME      GEO  Value\n",
              "93   2009  Belgium   6.57\n",
              "94   2010  Belgium   6.58\n",
              "95   2011  Belgium   6.55\n",
              "120  2000  Denmark   8.28\n",
              "121  2001  Denmark   8.44"
            ],
            "text/html": "<div>\n<style scoped>\n    .dataframe tbody tr th:only-of-type {\n        vertical-align: middle;\n    }\n\n    .dataframe tbody tr th {\n        vertical-align: top;\n    }\n\n    .dataframe thead th {\n        text-align: right;\n    }\n</style>\n<table border=\"1\" class=\"dataframe\">\n  <thead>\n    <tr style=\"text-align: right;\">\n      <th></th>\n      <th>TIME</th>\n      <th>GEO</th>\n      <th>Value</th>\n    </tr>\n  </thead>\n  <tbody>\n    <tr>\n      <th>93</th>\n      <td>2009</td>\n      <td>Belgium</td>\n      <td>6.57</td>\n    </tr>\n    <tr>\n      <th>94</th>\n      <td>2010</td>\n      <td>Belgium</td>\n      <td>6.58</td>\n    </tr>\n    <tr>\n      <th>95</th>\n      <td>2011</td>\n      <td>Belgium</td>\n      <td>6.55</td>\n    </tr>\n    <tr>\n      <th>120</th>\n      <td>2000</td>\n      <td>Denmark</td>\n      <td>8.28</td>\n    </tr>\n    <tr>\n      <th>121</th>\n      <td>2001</td>\n      <td>Denmark</td>\n      <td>8.44</td>\n    </tr>\n  </tbody>\n</table>\n</div>"
          },
          "metadata": {},
          "execution_count": 48
        }
      ],
      "source": [
        "edu[edu['Value'] > 6.5].head()"
      ]
    },
    {
      "source": [
        "### Filtering out NaN values\n",
        "\n",
        "There's some more tidying up to do on this file, some of the values are still NaN - not a value - we must remove or change these values before we can analyse the data set. We can use filtering to do that."
      ],
      "cell_type": "markdown",
      "metadata": {}
    },
    {
      "cell_type": "code",
      "execution_count": 51,
      "metadata": {},
      "outputs": [
        {
          "output_type": "execute_result",
          "data": {
            "text/plain": [
              "    TIME                            GEO  Value\n",
              "0   2000  European Union (28 countries)    NaN\n",
              "1   2001  European Union (28 countries)    NaN\n",
              "36  2000       Euro area (18 countries)    NaN\n",
              "37  2001       Euro area (18 countries)    NaN\n",
              "48  2000       Euro area (17 countries)    NaN"
            ],
            "text/html": "<div>\n<style scoped>\n    .dataframe tbody tr th:only-of-type {\n        vertical-align: middle;\n    }\n\n    .dataframe tbody tr th {\n        vertical-align: top;\n    }\n\n    .dataframe thead th {\n        text-align: right;\n    }\n</style>\n<table border=\"1\" class=\"dataframe\">\n  <thead>\n    <tr style=\"text-align: right;\">\n      <th></th>\n      <th>TIME</th>\n      <th>GEO</th>\n      <th>Value</th>\n    </tr>\n  </thead>\n  <tbody>\n    <tr>\n      <th>0</th>\n      <td>2000</td>\n      <td>European Union (28 countries)</td>\n      <td>NaN</td>\n    </tr>\n    <tr>\n      <th>1</th>\n      <td>2001</td>\n      <td>European Union (28 countries)</td>\n      <td>NaN</td>\n    </tr>\n    <tr>\n      <th>36</th>\n      <td>2000</td>\n      <td>Euro area (18 countries)</td>\n      <td>NaN</td>\n    </tr>\n    <tr>\n      <th>37</th>\n      <td>2001</td>\n      <td>Euro area (18 countries)</td>\n      <td>NaN</td>\n    </tr>\n    <tr>\n      <th>48</th>\n      <td>2000</td>\n      <td>Euro area (17 countries)</td>\n      <td>NaN</td>\n    </tr>\n  </tbody>\n</table>\n</div>"
          },
          "metadata": {},
          "execution_count": 51
        }
      ],
      "source": [
        "# Identify NaN in the Values column\n",
        "edu[edu['Value'].isnull()].head()\n"
      ]
    },
    {
      "cell_type": "code",
      "execution_count": 59,
      "metadata": {},
      "outputs": [
        {
          "output_type": "execute_result",
          "data": {
            "text/plain": [
              "     TIME                            GEO  Value\n",
              "2    2002  European Union (28 countries)   5.00\n",
              "3    2003  European Union (28 countries)   5.03\n",
              "4    2004  European Union (28 countries)   4.95\n",
              "5    2005  European Union (28 countries)   4.92\n",
              "6    2006  European Union (28 countries)   4.91\n",
              "..    ...                            ...    ...\n",
              "379  2007                        Finland   5.90\n",
              "380  2008                        Finland   6.10\n",
              "381  2009                        Finland   6.81\n",
              "382  2010                        Finland   6.85\n",
              "383  2011                        Finland   6.76\n",
              "\n",
              "[361 rows x 3 columns]"
            ],
            "text/html": "<div>\n<style scoped>\n    .dataframe tbody tr th:only-of-type {\n        vertical-align: middle;\n    }\n\n    .dataframe tbody tr th {\n        vertical-align: top;\n    }\n\n    .dataframe thead th {\n        text-align: right;\n    }\n</style>\n<table border=\"1\" class=\"dataframe\">\n  <thead>\n    <tr style=\"text-align: right;\">\n      <th></th>\n      <th>TIME</th>\n      <th>GEO</th>\n      <th>Value</th>\n    </tr>\n  </thead>\n  <tbody>\n    <tr>\n      <th>2</th>\n      <td>2002</td>\n      <td>European Union (28 countries)</td>\n      <td>5.00</td>\n    </tr>\n    <tr>\n      <th>3</th>\n      <td>2003</td>\n      <td>European Union (28 countries)</td>\n      <td>5.03</td>\n    </tr>\n    <tr>\n      <th>4</th>\n      <td>2004</td>\n      <td>European Union (28 countries)</td>\n      <td>4.95</td>\n    </tr>\n    <tr>\n      <th>5</th>\n      <td>2005</td>\n      <td>European Union (28 countries)</td>\n      <td>4.92</td>\n    </tr>\n    <tr>\n      <th>6</th>\n      <td>2006</td>\n      <td>European Union (28 countries)</td>\n      <td>4.91</td>\n    </tr>\n    <tr>\n      <th>...</th>\n      <td>...</td>\n      <td>...</td>\n      <td>...</td>\n    </tr>\n    <tr>\n      <th>379</th>\n      <td>2007</td>\n      <td>Finland</td>\n      <td>5.90</td>\n    </tr>\n    <tr>\n      <th>380</th>\n      <td>2008</td>\n      <td>Finland</td>\n      <td>6.10</td>\n    </tr>\n    <tr>\n      <th>381</th>\n      <td>2009</td>\n      <td>Finland</td>\n      <td>6.81</td>\n    </tr>\n    <tr>\n      <th>382</th>\n      <td>2010</td>\n      <td>Finland</td>\n      <td>6.85</td>\n    </tr>\n    <tr>\n      <th>383</th>\n      <td>2011</td>\n      <td>Finland</td>\n      <td>6.76</td>\n    </tr>\n  </tbody>\n</table>\n<p>361 rows × 3 columns</p>\n</div>"
          },
          "metadata": {},
          "execution_count": 59
        }
      ],
      "source": [
        "## Remove the NaN values \n",
        "# using dropna to remove all rows with NaN values\n",
        "eduDrop = edu.dropna()\n",
        "eduDrop\n"
      ]
    },
    {
      "source": [
        "Alternatively, you could replace the NaN values with zeroes if that's appropriate\n"
      ],
      "cell_type": "markdown",
      "metadata": {}
    },
    {
      "cell_type": "code",
      "execution_count": 99,
      "metadata": {},
      "outputs": [
        {
          "output_type": "execute_result",
          "data": {
            "text/plain": [
              "   TIME                            GEO  Value\n",
              "0  2000  European Union (28 countries)   0.00\n",
              "1  2001  European Union (28 countries)   0.00\n",
              "2  2002  European Union (28 countries)   5.00\n",
              "3  2003  European Union (28 countries)   5.03\n",
              "4  2004  European Union (28 countries)   4.95"
            ],
            "text/html": "<div>\n<style scoped>\n    .dataframe tbody tr th:only-of-type {\n        vertical-align: middle;\n    }\n\n    .dataframe tbody tr th {\n        vertical-align: top;\n    }\n\n    .dataframe thead th {\n        text-align: right;\n    }\n</style>\n<table border=\"1\" class=\"dataframe\">\n  <thead>\n    <tr style=\"text-align: right;\">\n      <th></th>\n      <th>TIME</th>\n      <th>GEO</th>\n      <th>Value</th>\n    </tr>\n  </thead>\n  <tbody>\n    <tr>\n      <th>0</th>\n      <td>2000</td>\n      <td>European Union (28 countries)</td>\n      <td>0.00</td>\n    </tr>\n    <tr>\n      <th>1</th>\n      <td>2001</td>\n      <td>European Union (28 countries)</td>\n      <td>0.00</td>\n    </tr>\n    <tr>\n      <th>2</th>\n      <td>2002</td>\n      <td>European Union (28 countries)</td>\n      <td>5.00</td>\n    </tr>\n    <tr>\n      <th>3</th>\n      <td>2003</td>\n      <td>European Union (28 countries)</td>\n      <td>5.03</td>\n    </tr>\n    <tr>\n      <th>4</th>\n      <td>2004</td>\n      <td>European Union (28 countries)</td>\n      <td>4.95</td>\n    </tr>\n  </tbody>\n</table>\n</div>"
          },
          "metadata": {},
          "execution_count": 99
        }
      ],
      "source": [
        "eduFilled = edu.fillna(value = {'Value': 0})\n",
        "eduFilled.head()\n"
      ]
    },
    {
      "source": [
        "## Manipulating data\n",
        "\n",
        "You can manipulate the values in a DataFrame or a subset of the columns or rows using aggregation functions. The table below shows the most common aggregation functions in pandas.\n",
        "\n",
        "| Function  | Description | \n",
        "|-----------|-------------|\n",
        "| count()   |Number of non-null observations|  \n",
        "| sum()     |Sum of values|\n",
        "| mean()    |Mean of values            | \n",
        "| median()  |Arithmetic median of values             |\n",
        "| min()     |Minimum|\n",
        "| max()     |Maximum|\n",
        "| prod()    |Product of values|\n",
        "| std()     |Unbiased standard deviation|\n",
        "| var()     | Unbiased variance|\n"
      ],
      "cell_type": "markdown",
      "metadata": {}
    },
    {
      "cell_type": "code",
      "execution_count": 60,
      "metadata": {},
      "outputs": [
        {
          "output_type": "execute_result",
          "data": {
            "text/plain": [
              "TIME      2011\n",
              "GEO      Spain\n",
              "Value     8.81\n",
              "dtype: object"
            ]
          },
          "metadata": {},
          "execution_count": 60
        }
      ],
      "source": [
        "# Applying a function over the rows for every column\n",
        "eduDrop.max(axis = 0)\n"
      ]
    },
    {
      "cell_type": "code",
      "execution_count": 68,
      "metadata": {},
      "outputs": [
        {
          "output_type": "execute_result",
          "data": {
            "text/plain": [
              "0    2\n",
              "1    2\n",
              "2    3\n",
              "3    3\n",
              "4    3\n",
              "dtype: int64"
            ]
          },
          "metadata": {},
          "execution_count": 68
        }
      ],
      "source": [
        "# Applying a function on the columns for each row\n",
        "# count returns the number of non-null observations.\n",
        "\n",
        "edu.count(axis = 1).head()\n"
      ]
    },
    {
      "source": [
        "There are no limitations to the types of operation or function that can be applied to a DataFrame. We can use standard arithmentic operators or we can use the ```apply()``` method. "
      ],
      "cell_type": "markdown",
      "metadata": {}
    },
    {
      "cell_type": "code",
      "execution_count": 72,
      "metadata": {},
      "outputs": [
        {
          "output_type": "execute_result",
          "data": {
            "text/plain": [
              "0       NaN\n",
              "1       NaN\n",
              "2    0.0500\n",
              "3    0.0503\n",
              "4    0.0495\n",
              "Name: Value, dtype: float64"
            ]
          },
          "metadata": {},
          "execution_count": 72
        }
      ],
      "source": [
        "s = edu['Value'] / 100\n",
        "s.head()"
      ]
    },
    {
      "cell_type": "code",
      "execution_count": 73,
      "metadata": {},
      "outputs": [
        {
          "output_type": "execute_result",
          "data": {
            "text/plain": [
              "0         NaN\n",
              "1         NaN\n",
              "2    2.236068\n",
              "3    2.242766\n",
              "4    2.224860\n",
              "Name: Value, dtype: float64"
            ]
          },
          "metadata": {},
          "execution_count": 73
        }
      ],
      "source": [
        "s = edu['Value'].apply(np.sqrt)\n",
        "s.head()"
      ]
    },
    {
      "source": [
        "It's possible to define your own small functions in this situation using a python feature called **lambda**. "
      ],
      "cell_type": "markdown",
      "metadata": {}
    },
    {
      "cell_type": "code",
      "execution_count": 74,
      "metadata": {},
      "outputs": [
        {
          "output_type": "execute_result",
          "data": {
            "text/plain": [
              "0        NaN\n",
              "1        NaN\n",
              "2    25.0000\n",
              "3    25.3009\n",
              "4    24.5025\n",
              "Name: Value, dtype: float64"
            ]
          },
          "metadata": {},
          "execution_count": 74
        }
      ],
      "source": [
        "s = edu['Value'].apply(lambda d: d**2)\n",
        "s.head()"
      ]
    },
    {
      "source": [
        "## Adding or deleting rows or columns\n",
        "New columns or new rows can be added as needed by specifying the axis we want to modify\n"
      ],
      "cell_type": "markdown",
      "metadata": {}
    },
    {
      "cell_type": "code",
      "execution_count": 94,
      "metadata": {},
      "outputs": [
        {
          "output_type": "execute_result",
          "data": {
            "text/plain": [
              "     TIME      GEO  Value  New\n",
              "379  2007  Finland   5.90    0\n",
              "380  2008  Finland   6.10    0\n",
              "381  2009  Finland   6.81    0\n",
              "382  2010  Finland   6.85    0\n",
              "383  2011  Finland   6.76    0"
            ],
            "text/html": "<div>\n<style scoped>\n    .dataframe tbody tr th:only-of-type {\n        vertical-align: middle;\n    }\n\n    .dataframe tbody tr th {\n        vertical-align: top;\n    }\n\n    .dataframe thead th {\n        text-align: right;\n    }\n</style>\n<table border=\"1\" class=\"dataframe\">\n  <thead>\n    <tr style=\"text-align: right;\">\n      <th></th>\n      <th>TIME</th>\n      <th>GEO</th>\n      <th>Value</th>\n      <th>New</th>\n    </tr>\n  </thead>\n  <tbody>\n    <tr>\n      <th>379</th>\n      <td>2007</td>\n      <td>Finland</td>\n      <td>5.90</td>\n      <td>0</td>\n    </tr>\n    <tr>\n      <th>380</th>\n      <td>2008</td>\n      <td>Finland</td>\n      <td>6.10</td>\n      <td>0</td>\n    </tr>\n    <tr>\n      <th>381</th>\n      <td>2009</td>\n      <td>Finland</td>\n      <td>6.81</td>\n      <td>0</td>\n    </tr>\n    <tr>\n      <th>382</th>\n      <td>2010</td>\n      <td>Finland</td>\n      <td>6.85</td>\n      <td>0</td>\n    </tr>\n    <tr>\n      <th>383</th>\n      <td>2011</td>\n      <td>Finland</td>\n      <td>6.76</td>\n      <td>0</td>\n    </tr>\n  </tbody>\n</table>\n</div>"
          },
          "metadata": {},
          "execution_count": 94
        }
      ],
      "source": [
        "# Add a new column\n",
        "edu['New'] = 0\n",
        "edu.tail()\n"
      ]
    },
    {
      "cell_type": "code",
      "execution_count": 95,
      "metadata": {},
      "outputs": [
        {
          "output_type": "execute_result",
          "data": {
            "text/plain": [
              "     TIME      GEO  Value\n",
              "379  2007  Finland   5.90\n",
              "380  2008  Finland   6.10\n",
              "381  2009  Finland   6.81\n",
              "382  2010  Finland   6.85\n",
              "383  2011  Finland   6.76"
            ],
            "text/html": "<div>\n<style scoped>\n    .dataframe tbody tr th:only-of-type {\n        vertical-align: middle;\n    }\n\n    .dataframe tbody tr th {\n        vertical-align: top;\n    }\n\n    .dataframe thead th {\n        text-align: right;\n    }\n</style>\n<table border=\"1\" class=\"dataframe\">\n  <thead>\n    <tr style=\"text-align: right;\">\n      <th></th>\n      <th>TIME</th>\n      <th>GEO</th>\n      <th>Value</th>\n    </tr>\n  </thead>\n  <tbody>\n    <tr>\n      <th>379</th>\n      <td>2007</td>\n      <td>Finland</td>\n      <td>5.90</td>\n    </tr>\n    <tr>\n      <th>380</th>\n      <td>2008</td>\n      <td>Finland</td>\n      <td>6.10</td>\n    </tr>\n    <tr>\n      <th>381</th>\n      <td>2009</td>\n      <td>Finland</td>\n      <td>6.81</td>\n    </tr>\n    <tr>\n      <th>382</th>\n      <td>2010</td>\n      <td>Finland</td>\n      <td>6.85</td>\n    </tr>\n    <tr>\n      <th>383</th>\n      <td>2011</td>\n      <td>Finland</td>\n      <td>6.76</td>\n    </tr>\n  </tbody>\n</table>\n</div>"
          },
          "metadata": {},
          "execution_count": 95
        }
      ],
      "source": [
        "# Delete the new column\n",
        "edu.drop(['New'], axis = 1, inplace = True)\n",
        "edu.tail()\n"
      ]
    },
    {
      "cell_type": "code",
      "execution_count": 96,
      "metadata": {},
      "outputs": [
        {
          "output_type": "execute_result",
          "data": {
            "text/plain": [
              "     TIME      GEO  Value\n",
              "380  2008  Finland   6.10\n",
              "381  2009  Finland   6.81\n",
              "382  2010  Finland   6.85\n",
              "383  2011  Finland   6.76\n",
              "384  2000        a   5.00"
            ],
            "text/html": "<div>\n<style scoped>\n    .dataframe tbody tr th:only-of-type {\n        vertical-align: middle;\n    }\n\n    .dataframe tbody tr th {\n        vertical-align: top;\n    }\n\n    .dataframe thead th {\n        text-align: right;\n    }\n</style>\n<table border=\"1\" class=\"dataframe\">\n  <thead>\n    <tr style=\"text-align: right;\">\n      <th></th>\n      <th>TIME</th>\n      <th>GEO</th>\n      <th>Value</th>\n    </tr>\n  </thead>\n  <tbody>\n    <tr>\n      <th>380</th>\n      <td>2008</td>\n      <td>Finland</td>\n      <td>6.10</td>\n    </tr>\n    <tr>\n      <th>381</th>\n      <td>2009</td>\n      <td>Finland</td>\n      <td>6.81</td>\n    </tr>\n    <tr>\n      <th>382</th>\n      <td>2010</td>\n      <td>Finland</td>\n      <td>6.85</td>\n    </tr>\n    <tr>\n      <th>383</th>\n      <td>2011</td>\n      <td>Finland</td>\n      <td>6.76</td>\n    </tr>\n    <tr>\n      <th>384</th>\n      <td>2000</td>\n      <td>a</td>\n      <td>5.00</td>\n    </tr>\n  </tbody>\n</table>\n</div>"
          },
          "metadata": {},
          "execution_count": 96
        }
      ],
      "source": [
        "# Add a new row\n",
        "edu = edu.append({'TIME': 2000, 'Value': 5.00, 'GEO': 'a'}, ignore_index=True)\n",
        "edu.tail()"
      ]
    },
    {
      "cell_type": "code",
      "execution_count": 97,
      "metadata": {},
      "outputs": [
        {
          "output_type": "execute_result",
          "data": {
            "text/plain": [
              "     TIME      GEO  Value\n",
              "379  2007  Finland   5.90\n",
              "380  2008  Finland   6.10\n",
              "381  2009  Finland   6.81\n",
              "382  2010  Finland   6.85\n",
              "383  2011  Finland   6.76"
            ],
            "text/html": "<div>\n<style scoped>\n    .dataframe tbody tr th:only-of-type {\n        vertical-align: middle;\n    }\n\n    .dataframe tbody tr th {\n        vertical-align: top;\n    }\n\n    .dataframe thead th {\n        text-align: right;\n    }\n</style>\n<table border=\"1\" class=\"dataframe\">\n  <thead>\n    <tr style=\"text-align: right;\">\n      <th></th>\n      <th>TIME</th>\n      <th>GEO</th>\n      <th>Value</th>\n    </tr>\n  </thead>\n  <tbody>\n    <tr>\n      <th>379</th>\n      <td>2007</td>\n      <td>Finland</td>\n      <td>5.90</td>\n    </tr>\n    <tr>\n      <th>380</th>\n      <td>2008</td>\n      <td>Finland</td>\n      <td>6.10</td>\n    </tr>\n    <tr>\n      <th>381</th>\n      <td>2009</td>\n      <td>Finland</td>\n      <td>6.81</td>\n    </tr>\n    <tr>\n      <th>382</th>\n      <td>2010</td>\n      <td>Finland</td>\n      <td>6.85</td>\n    </tr>\n    <tr>\n      <th>383</th>\n      <td>2011</td>\n      <td>Finland</td>\n      <td>6.76</td>\n    </tr>\n  </tbody>\n</table>\n</div>"
          },
          "metadata": {},
          "execution_count": 97
        }
      ],
      "source": [
        "# Delete the same row - it's the final row - max(edu.index)\n",
        "edu.drop(max(edu.index), axis=0, inplace=True)\n",
        "edu.tail()\n"
      ]
    },
    {
      "source": [
        "## Sorting\n",
        "\n",
        "We can sort a DataFrame using any column, using the **sort** function.  If we want to see the first five rows of data sorted in descending order  (i.e., from the largest to the smallest values) and using the *'Value'* column, then we just need to do this:\n",
        "\n"
      ],
      "cell_type": "markdown",
      "metadata": {}
    },
    {
      "cell_type": "code",
      "execution_count": 5,
      "metadata": {},
      "outputs": [
        {
          "output_type": "execute_result",
          "data": {
            "text/plain": [
              "     TIME      GEO  Value\n",
              "130  2010  Denmark   8.81\n",
              "131  2011  Denmark   8.75\n",
              "129  2009  Denmark   8.74\n",
              "121  2001  Denmark   8.44\n",
              "122  2002  Denmark   8.44"
            ],
            "text/html": "<div>\n<style scoped>\n    .dataframe tbody tr th:only-of-type {\n        vertical-align: middle;\n    }\n\n    .dataframe tbody tr th {\n        vertical-align: top;\n    }\n\n    .dataframe thead th {\n        text-align: right;\n    }\n</style>\n<table border=\"1\" class=\"dataframe\">\n  <thead>\n    <tr style=\"text-align: right;\">\n      <th></th>\n      <th>TIME</th>\n      <th>GEO</th>\n      <th>Value</th>\n    </tr>\n  </thead>\n  <tbody>\n    <tr>\n      <th>130</th>\n      <td>2010</td>\n      <td>Denmark</td>\n      <td>8.81</td>\n    </tr>\n    <tr>\n      <th>131</th>\n      <td>2011</td>\n      <td>Denmark</td>\n      <td>8.75</td>\n    </tr>\n    <tr>\n      <th>129</th>\n      <td>2009</td>\n      <td>Denmark</td>\n      <td>8.74</td>\n    </tr>\n    <tr>\n      <th>121</th>\n      <td>2001</td>\n      <td>Denmark</td>\n      <td>8.44</td>\n    </tr>\n    <tr>\n      <th>122</th>\n      <td>2002</td>\n      <td>Denmark</td>\n      <td>8.44</td>\n    </tr>\n  </tbody>\n</table>\n</div>"
          },
          "metadata": {},
          "execution_count": 5
        }
      ],
      "source": [
        "edu.sort_values(by='Value', ascending=False, inplace=True)\n",
        "edu.head()\n"
      ]
    },
    {
      "source": [
        "## Grouping Data\n",
        "\n",
        "Another very useful way to inspect data is to group it according to some criteria. For instance, in our example it would be nice to group all the data by country, regardless of the year. Pandas has the groupby function that allows us to do just that. The value returned by this function is a special grouped DataFrame. To have a proper DataFrame as a result, it is necessary to apply an aggregation function. Thus, this function will be applied to all the values in the same group.\n",
        "\n",
        "For example, in our case, if we want a DataFrame showing the mean of the values for each country over all the years, we can obtain it by grouping according to country and using the mean function as the aggregation method for each group. The result would be a DataFrame with countries as indexes and the mean values as the column:"
      ],
      "cell_type": "markdown",
      "metadata": {}
    },
    {
      "cell_type": "code",
      "execution_count": 6,
      "metadata": {},
      "outputs": [
        {
          "output_type": "execute_result",
          "data": {
            "text/plain": [
              "                   Value\n",
              "GEO                     \n",
              "Austria         5.618333\n",
              "Belgium         6.189091\n",
              "Bulgaria        4.093333\n",
              "Cyprus          7.023333\n",
              "Czech Republic  4.168333"
            ],
            "text/html": "<div>\n<style scoped>\n    .dataframe tbody tr th:only-of-type {\n        vertical-align: middle;\n    }\n\n    .dataframe tbody tr th {\n        vertical-align: top;\n    }\n\n    .dataframe thead th {\n        text-align: right;\n    }\n</style>\n<table border=\"1\" class=\"dataframe\">\n  <thead>\n    <tr style=\"text-align: right;\">\n      <th></th>\n      <th>Value</th>\n    </tr>\n    <tr>\n      <th>GEO</th>\n      <th></th>\n    </tr>\n  </thead>\n  <tbody>\n    <tr>\n      <th>Austria</th>\n      <td>5.618333</td>\n    </tr>\n    <tr>\n      <th>Belgium</th>\n      <td>6.189091</td>\n    </tr>\n    <tr>\n      <th>Bulgaria</th>\n      <td>4.093333</td>\n    </tr>\n    <tr>\n      <th>Cyprus</th>\n      <td>7.023333</td>\n    </tr>\n    <tr>\n      <th>Czech Republic</th>\n      <td>4.168333</td>\n    </tr>\n  </tbody>\n</table>\n</div>"
          },
          "metadata": {},
          "execution_count": 6
        }
      ],
      "source": [
        "group = edu[['GEO', 'Value']].groupby('GEO').mean()\n",
        "group.head()\n"
      ]
    },
    {
      "source": [
        "## Rearranging Data\n"
      ],
      "cell_type": "markdown",
      "metadata": {}
    },
    {
      "source": [
        "Up until now, our indexes have been just a numeration of rows without much meaning. We can transform the arrangement of our data, redistributing the indexes and columns for better manipulation of our data, which normally leads to better performance. We can rearrange our data using the pivot_table function. Here, we can specify which columns will be the new indexes, the new values and the new columns.\n",
        "\n",
        "For example, imagine that we want to transform our DataFrame to a spreadsheet-like structure with the country names as the index, while the columns will be the years starting from 2006 and the values will be the previous 'Value' column. To do this, first we need to filter out the data and then pivot it in this way:"
      ],
      "cell_type": "markdown",
      "metadata": {}
    },
    {
      "cell_type": "code",
      "execution_count": 9,
      "metadata": {},
      "outputs": [
        {
          "output_type": "execute_result",
          "data": {
            "text/plain": [
              "TIME            2006  2007  2008  2009  2010  2011\n",
              "GEO                                               \n",
              "Austria         5.40  5.33  5.47  5.98  5.91  5.80\n",
              "Belgium         5.98  6.00  6.43  6.57  6.58  6.55\n",
              "Bulgaria        4.04  3.88  4.44  4.58  4.10  3.82\n",
              "Cyprus          7.02  6.95  7.45  7.98  7.92  7.87\n",
              "Czech Republic  4.42  4.05  3.92  4.36  4.25  4.51"
            ],
            "text/html": "<div>\n<style scoped>\n    .dataframe tbody tr th:only-of-type {\n        vertical-align: middle;\n    }\n\n    .dataframe tbody tr th {\n        vertical-align: top;\n    }\n\n    .dataframe thead th {\n        text-align: right;\n    }\n</style>\n<table border=\"1\" class=\"dataframe\">\n  <thead>\n    <tr style=\"text-align: right;\">\n      <th>TIME</th>\n      <th>2006</th>\n      <th>2007</th>\n      <th>2008</th>\n      <th>2009</th>\n      <th>2010</th>\n      <th>2011</th>\n    </tr>\n    <tr>\n      <th>GEO</th>\n      <th></th>\n      <th></th>\n      <th></th>\n      <th></th>\n      <th></th>\n      <th></th>\n    </tr>\n  </thead>\n  <tbody>\n    <tr>\n      <th>Austria</th>\n      <td>5.40</td>\n      <td>5.33</td>\n      <td>5.47</td>\n      <td>5.98</td>\n      <td>5.91</td>\n      <td>5.80</td>\n    </tr>\n    <tr>\n      <th>Belgium</th>\n      <td>5.98</td>\n      <td>6.00</td>\n      <td>6.43</td>\n      <td>6.57</td>\n      <td>6.58</td>\n      <td>6.55</td>\n    </tr>\n    <tr>\n      <th>Bulgaria</th>\n      <td>4.04</td>\n      <td>3.88</td>\n      <td>4.44</td>\n      <td>4.58</td>\n      <td>4.10</td>\n      <td>3.82</td>\n    </tr>\n    <tr>\n      <th>Cyprus</th>\n      <td>7.02</td>\n      <td>6.95</td>\n      <td>7.45</td>\n      <td>7.98</td>\n      <td>7.92</td>\n      <td>7.87</td>\n    </tr>\n    <tr>\n      <th>Czech Republic</th>\n      <td>4.42</td>\n      <td>4.05</td>\n      <td>3.92</td>\n      <td>4.36</td>\n      <td>4.25</td>\n      <td>4.51</td>\n    </tr>\n  </tbody>\n</table>\n</div>"
          },
          "metadata": {},
          "execution_count": 9
        }
      ],
      "source": [
        "filtered_data = edu[edu['TIME'] > 2005]\n",
        "pivedu = pd.pivot_table(filtered_data, values='Value',\n",
        "                        index=['GEO'], columns=['TIME'])\n",
        "pivedu.head()"
      ]
    },
    {
      "source": [
        "Now we can use the new index to select specific rows by label, using the ix operator:"
      ],
      "cell_type": "markdown",
      "metadata": {}
    },
    {
      "cell_type": "code",
      "execution_count": 11,
      "metadata": {},
      "outputs": [
        {
          "output_type": "execute_result",
          "data": {
            "text/plain": [
              "TIME      2006  2011\n",
              "GEO                 \n",
              "Spain     4.26  4.82\n",
              "Portugal  5.07  5.27"
            ],
            "text/html": "<div>\n<style scoped>\n    .dataframe tbody tr th:only-of-type {\n        vertical-align: middle;\n    }\n\n    .dataframe tbody tr th {\n        vertical-align: top;\n    }\n\n    .dataframe thead th {\n        text-align: right;\n    }\n</style>\n<table border=\"1\" class=\"dataframe\">\n  <thead>\n    <tr style=\"text-align: right;\">\n      <th>TIME</th>\n      <th>2006</th>\n      <th>2011</th>\n    </tr>\n    <tr>\n      <th>GEO</th>\n      <th></th>\n      <th></th>\n    </tr>\n  </thead>\n  <tbody>\n    <tr>\n      <th>Spain</th>\n      <td>4.26</td>\n      <td>4.82</td>\n    </tr>\n    <tr>\n      <th>Portugal</th>\n      <td>5.07</td>\n      <td>5.27</td>\n    </tr>\n  </tbody>\n</table>\n</div>"
          },
          "metadata": {},
          "execution_count": 11
        }
      ],
      "source": [
        "pivedu.loc[['Spain', 'Portugal'], [2006, 2011]]"
      ]
    },
    {
      "source": [
        "If we want to make a global ranking taking into account all the years, we can sum up all the columns and rank the result. Then we can sort the resulting values to retrieve the top 5 countries for the last 6 years, in this way:"
      ],
      "cell_type": "markdown",
      "metadata": {}
    },
    {
      "cell_type": "code",
      "execution_count": 12,
      "metadata": {},
      "outputs": [
        {
          "output_type": "execute_result",
          "data": {
            "text/plain": [
              "GEO\n",
              "Denmark    1.0\n",
              "Cyprus     2.0\n",
              "Finland    3.0\n",
              "Malta      4.0\n",
              "Belgium    5.0\n",
              "dtype: float64"
            ]
          },
          "metadata": {},
          "execution_count": 12
        }
      ],
      "source": [
        "totalSum = pivedu.sum(axis=1)\n",
        "totalSum.rank(ascending=False, method='dense').sort_values().head()"
      ]
    },
    {
      "source": [
        "## Ranking"
      ],
      "cell_type": "markdown",
      "metadata": {}
    },
    {
      "source": [
        "Another useful visualization feature is to rank data. For example, we would like to know how each country is ranked by year. To see this, we will use the pandas rank function. But first, we need to clean up our previous pivoted table a bit so that it only has real countries with real data. To do this, first we drop the Euro area entries and shorten the Germany name entry, using the rename function and then we drop all the rows containing any NaN, using the dropna function.\n",
        "\n",
        "Now we can perform the ranking using the rank function. Note here that the parameter ascending=False makes the ranking go from the highest values to the lowest values. The Pandas rank function supports different tie-breaking methods, specified with the method parameter. In our case, we use the first method, in which ranks are assigned in the order they appear in the array, avoiding gaps between ranking."
      ],
      "cell_type": "markdown",
      "metadata": {}
    },
    {
      "cell_type": "code",
      "execution_count": 13,
      "metadata": {},
      "outputs": [
        {
          "output_type": "execute_result",
          "data": {
            "text/plain": [
              "TIME            2006  2007  2008  2009  2010  2011\n",
              "GEO                                               \n",
              "Austria         10.0   7.0  11.0   7.0   8.0   8.0\n",
              "Belgium          5.0   4.0   3.0   4.0   5.0   5.0\n",
              "Bulgaria        21.0  21.0  20.0  20.0  22.0  22.0\n",
              "Cyprus           2.0   2.0   2.0   2.0   2.0   3.0\n",
              "Czech Republic  19.0  20.0  21.0  21.0  20.0  19.0"
            ],
            "text/html": "<div>\n<style scoped>\n    .dataframe tbody tr th:only-of-type {\n        vertical-align: middle;\n    }\n\n    .dataframe tbody tr th {\n        vertical-align: top;\n    }\n\n    .dataframe thead th {\n        text-align: right;\n    }\n</style>\n<table border=\"1\" class=\"dataframe\">\n  <thead>\n    <tr style=\"text-align: right;\">\n      <th>TIME</th>\n      <th>2006</th>\n      <th>2007</th>\n      <th>2008</th>\n      <th>2009</th>\n      <th>2010</th>\n      <th>2011</th>\n    </tr>\n    <tr>\n      <th>GEO</th>\n      <th></th>\n      <th></th>\n      <th></th>\n      <th></th>\n      <th></th>\n      <th></th>\n    </tr>\n  </thead>\n  <tbody>\n    <tr>\n      <th>Austria</th>\n      <td>10.0</td>\n      <td>7.0</td>\n      <td>11.0</td>\n      <td>7.0</td>\n      <td>8.0</td>\n      <td>8.0</td>\n    </tr>\n    <tr>\n      <th>Belgium</th>\n      <td>5.0</td>\n      <td>4.0</td>\n      <td>3.0</td>\n      <td>4.0</td>\n      <td>5.0</td>\n      <td>5.0</td>\n    </tr>\n    <tr>\n      <th>Bulgaria</th>\n      <td>21.0</td>\n      <td>21.0</td>\n      <td>20.0</td>\n      <td>20.0</td>\n      <td>22.0</td>\n      <td>22.0</td>\n    </tr>\n    <tr>\n      <th>Cyprus</th>\n      <td>2.0</td>\n      <td>2.0</td>\n      <td>2.0</td>\n      <td>2.0</td>\n      <td>2.0</td>\n      <td>3.0</td>\n    </tr>\n    <tr>\n      <th>Czech Republic</th>\n      <td>19.0</td>\n      <td>20.0</td>\n      <td>21.0</td>\n      <td>21.0</td>\n      <td>20.0</td>\n      <td>19.0</td>\n    </tr>\n  </tbody>\n</table>\n</div>"
          },
          "metadata": {},
          "execution_count": 13
        }
      ],
      "source": [
        "pivedu = pivedu.drop(['Euro area (13 countries)',\n",
        "                      'Euro area (15 countries)',\n",
        "                      'Euro area (17 countries)',\n",
        "                      'Euro area (18 countries)',\n",
        "                      'European Union (25 countries)',\n",
        "                      'European Union (27 countries)',\n",
        "                      'European Union (28 countries)'\n",
        "                      ], axis=0)\n",
        "pivedu = pivedu.rename(\n",
        "    index={'Germany (until 1990 former territory of the FRG)': 'Germany'})\n",
        "pivedu = pivedu.dropna()\n",
        "pivedu.rank(ascending=False, method='first').head()"
      ]
    },
    {
      "source": [
        "If we want to make a global ranking taking into account all the years, we can sum up all the columns and rank the result. Then we can sort the resulting values to retrieve the top 5 countries for the last 6 years, in this way:"
      ],
      "cell_type": "markdown",
      "metadata": {}
    },
    {
      "cell_type": "code",
      "execution_count": 14,
      "metadata": {},
      "outputs": [
        {
          "output_type": "execute_result",
          "data": {
            "text/plain": [
              "GEO\n",
              "Denmark    1.0\n",
              "Cyprus     2.0\n",
              "Finland    3.0\n",
              "Malta      4.0\n",
              "Belgium    5.0\n",
              "dtype: float64"
            ]
          },
          "metadata": {},
          "execution_count": 14
        }
      ],
      "source": [
        "totalSum = pivedu.sum(axis=1)\n",
        "# totalSum.rank(ascending=False, method='dense').sort_values().head()\n",
        "totalSum.rank(ascending=False).sort_values().head()"
      ]
    },
    {
      "source": [
        "## Plotting\n"
      ],
      "cell_type": "markdown",
      "metadata": {}
    },
    {
      "cell_type": "code",
      "execution_count": 115,
      "metadata": {},
      "outputs": [
        {
          "output_type": "display_data",
          "data": {
            "application/vnd.plotly.v1+json": {
              "config": {
                "plotlyServerURL": "https://plot.ly"
              },
              "data": [
                {
                  "alignmentgroup": "True",
                  "hovertemplate": "variable=0<br>GEO=%{x}<br>value=%{y}<extra></extra>",
                  "legendgroup": "0",
                  "marker": {
                    "color": "#636efa"
                  },
                  "name": "0",
                  "offsetgroup": "0",
                  "orientation": "v",
                  "showlegend": true,
                  "textposition": "auto",
                  "type": "bar",
                  "x": [
                    "Denmark",
                    "Cyprus",
                    "Finland",
                    "Malta",
                    "Belgium",
                    "Ireland",
                    "France",
                    "Netherlands",
                    "Austria",
                    "Slovenia",
                    "Estonia",
                    "Portugal",
                    "Latvia",
                    "Hungary",
                    "Lithuania",
                    "Poland",
                    "Germany",
                    "Spain",
                    "Italy",
                    "Czech Republic",
                    "Bulgaria",
                    "Slovakia"
                  ],
                  "xaxis": "x",
                  "y": [
                    49.760000000000005,
                    45.19,
                    38.599999999999994,
                    38.37,
                    38.11,
                    34.31,
                    34.29,
                    34.18,
                    33.89,
                    33.120000000000005,
                    31.880000000000003,
                    31.74,
                    31.42,
                    30.560000000000002,
                    30.509999999999998,
                    30.44,
                    28.610000000000003,
                    28.04,
                    26.99,
                    25.509999999999998,
                    24.86,
                    23.4
                  ],
                  "yaxis": "y"
                }
              ],
              "layout": {
                "barmode": "relative",
                "legend": {
                  "title": {
                    "text": "variable"
                  },
                  "tracegroupgap": 0
                },
                "margin": {
                  "t": 60
                },
                "template": {
                  "data": {
                    "bar": [
                      {
                        "error_x": {
                          "color": "#2a3f5f"
                        },
                        "error_y": {
                          "color": "#2a3f5f"
                        },
                        "marker": {
                          "line": {
                            "color": "#E5ECF6",
                            "width": 0.5
                          }
                        },
                        "type": "bar"
                      }
                    ],
                    "barpolar": [
                      {
                        "marker": {
                          "line": {
                            "color": "#E5ECF6",
                            "width": 0.5
                          }
                        },
                        "type": "barpolar"
                      }
                    ],
                    "carpet": [
                      {
                        "aaxis": {
                          "endlinecolor": "#2a3f5f",
                          "gridcolor": "white",
                          "linecolor": "white",
                          "minorgridcolor": "white",
                          "startlinecolor": "#2a3f5f"
                        },
                        "baxis": {
                          "endlinecolor": "#2a3f5f",
                          "gridcolor": "white",
                          "linecolor": "white",
                          "minorgridcolor": "white",
                          "startlinecolor": "#2a3f5f"
                        },
                        "type": "carpet"
                      }
                    ],
                    "choropleth": [
                      {
                        "colorbar": {
                          "outlinewidth": 0,
                          "ticks": ""
                        },
                        "type": "choropleth"
                      }
                    ],
                    "contour": [
                      {
                        "colorbar": {
                          "outlinewidth": 0,
                          "ticks": ""
                        },
                        "colorscale": [
                          [
                            0,
                            "#0d0887"
                          ],
                          [
                            0.1111111111111111,
                            "#46039f"
                          ],
                          [
                            0.2222222222222222,
                            "#7201a8"
                          ],
                          [
                            0.3333333333333333,
                            "#9c179e"
                          ],
                          [
                            0.4444444444444444,
                            "#bd3786"
                          ],
                          [
                            0.5555555555555556,
                            "#d8576b"
                          ],
                          [
                            0.6666666666666666,
                            "#ed7953"
                          ],
                          [
                            0.7777777777777778,
                            "#fb9f3a"
                          ],
                          [
                            0.8888888888888888,
                            "#fdca26"
                          ],
                          [
                            1,
                            "#f0f921"
                          ]
                        ],
                        "type": "contour"
                      }
                    ],
                    "contourcarpet": [
                      {
                        "colorbar": {
                          "outlinewidth": 0,
                          "ticks": ""
                        },
                        "type": "contourcarpet"
                      }
                    ],
                    "heatmap": [
                      {
                        "colorbar": {
                          "outlinewidth": 0,
                          "ticks": ""
                        },
                        "colorscale": [
                          [
                            0,
                            "#0d0887"
                          ],
                          [
                            0.1111111111111111,
                            "#46039f"
                          ],
                          [
                            0.2222222222222222,
                            "#7201a8"
                          ],
                          [
                            0.3333333333333333,
                            "#9c179e"
                          ],
                          [
                            0.4444444444444444,
                            "#bd3786"
                          ],
                          [
                            0.5555555555555556,
                            "#d8576b"
                          ],
                          [
                            0.6666666666666666,
                            "#ed7953"
                          ],
                          [
                            0.7777777777777778,
                            "#fb9f3a"
                          ],
                          [
                            0.8888888888888888,
                            "#fdca26"
                          ],
                          [
                            1,
                            "#f0f921"
                          ]
                        ],
                        "type": "heatmap"
                      }
                    ],
                    "heatmapgl": [
                      {
                        "colorbar": {
                          "outlinewidth": 0,
                          "ticks": ""
                        },
                        "colorscale": [
                          [
                            0,
                            "#0d0887"
                          ],
                          [
                            0.1111111111111111,
                            "#46039f"
                          ],
                          [
                            0.2222222222222222,
                            "#7201a8"
                          ],
                          [
                            0.3333333333333333,
                            "#9c179e"
                          ],
                          [
                            0.4444444444444444,
                            "#bd3786"
                          ],
                          [
                            0.5555555555555556,
                            "#d8576b"
                          ],
                          [
                            0.6666666666666666,
                            "#ed7953"
                          ],
                          [
                            0.7777777777777778,
                            "#fb9f3a"
                          ],
                          [
                            0.8888888888888888,
                            "#fdca26"
                          ],
                          [
                            1,
                            "#f0f921"
                          ]
                        ],
                        "type": "heatmapgl"
                      }
                    ],
                    "histogram": [
                      {
                        "marker": {
                          "colorbar": {
                            "outlinewidth": 0,
                            "ticks": ""
                          }
                        },
                        "type": "histogram"
                      }
                    ],
                    "histogram2d": [
                      {
                        "colorbar": {
                          "outlinewidth": 0,
                          "ticks": ""
                        },
                        "colorscale": [
                          [
                            0,
                            "#0d0887"
                          ],
                          [
                            0.1111111111111111,
                            "#46039f"
                          ],
                          [
                            0.2222222222222222,
                            "#7201a8"
                          ],
                          [
                            0.3333333333333333,
                            "#9c179e"
                          ],
                          [
                            0.4444444444444444,
                            "#bd3786"
                          ],
                          [
                            0.5555555555555556,
                            "#d8576b"
                          ],
                          [
                            0.6666666666666666,
                            "#ed7953"
                          ],
                          [
                            0.7777777777777778,
                            "#fb9f3a"
                          ],
                          [
                            0.8888888888888888,
                            "#fdca26"
                          ],
                          [
                            1,
                            "#f0f921"
                          ]
                        ],
                        "type": "histogram2d"
                      }
                    ],
                    "histogram2dcontour": [
                      {
                        "colorbar": {
                          "outlinewidth": 0,
                          "ticks": ""
                        },
                        "colorscale": [
                          [
                            0,
                            "#0d0887"
                          ],
                          [
                            0.1111111111111111,
                            "#46039f"
                          ],
                          [
                            0.2222222222222222,
                            "#7201a8"
                          ],
                          [
                            0.3333333333333333,
                            "#9c179e"
                          ],
                          [
                            0.4444444444444444,
                            "#bd3786"
                          ],
                          [
                            0.5555555555555556,
                            "#d8576b"
                          ],
                          [
                            0.6666666666666666,
                            "#ed7953"
                          ],
                          [
                            0.7777777777777778,
                            "#fb9f3a"
                          ],
                          [
                            0.8888888888888888,
                            "#fdca26"
                          ],
                          [
                            1,
                            "#f0f921"
                          ]
                        ],
                        "type": "histogram2dcontour"
                      }
                    ],
                    "mesh3d": [
                      {
                        "colorbar": {
                          "outlinewidth": 0,
                          "ticks": ""
                        },
                        "type": "mesh3d"
                      }
                    ],
                    "parcoords": [
                      {
                        "line": {
                          "colorbar": {
                            "outlinewidth": 0,
                            "ticks": ""
                          }
                        },
                        "type": "parcoords"
                      }
                    ],
                    "pie": [
                      {
                        "automargin": true,
                        "type": "pie"
                      }
                    ],
                    "scatter": [
                      {
                        "marker": {
                          "colorbar": {
                            "outlinewidth": 0,
                            "ticks": ""
                          }
                        },
                        "type": "scatter"
                      }
                    ],
                    "scatter3d": [
                      {
                        "line": {
                          "colorbar": {
                            "outlinewidth": 0,
                            "ticks": ""
                          }
                        },
                        "marker": {
                          "colorbar": {
                            "outlinewidth": 0,
                            "ticks": ""
                          }
                        },
                        "type": "scatter3d"
                      }
                    ],
                    "scattercarpet": [
                      {
                        "marker": {
                          "colorbar": {
                            "outlinewidth": 0,
                            "ticks": ""
                          }
                        },
                        "type": "scattercarpet"
                      }
                    ],
                    "scattergeo": [
                      {
                        "marker": {
                          "colorbar": {
                            "outlinewidth": 0,
                            "ticks": ""
                          }
                        },
                        "type": "scattergeo"
                      }
                    ],
                    "scattergl": [
                      {
                        "marker": {
                          "colorbar": {
                            "outlinewidth": 0,
                            "ticks": ""
                          }
                        },
                        "type": "scattergl"
                      }
                    ],
                    "scattermapbox": [
                      {
                        "marker": {
                          "colorbar": {
                            "outlinewidth": 0,
                            "ticks": ""
                          }
                        },
                        "type": "scattermapbox"
                      }
                    ],
                    "scatterpolar": [
                      {
                        "marker": {
                          "colorbar": {
                            "outlinewidth": 0,
                            "ticks": ""
                          }
                        },
                        "type": "scatterpolar"
                      }
                    ],
                    "scatterpolargl": [
                      {
                        "marker": {
                          "colorbar": {
                            "outlinewidth": 0,
                            "ticks": ""
                          }
                        },
                        "type": "scatterpolargl"
                      }
                    ],
                    "scatterternary": [
                      {
                        "marker": {
                          "colorbar": {
                            "outlinewidth": 0,
                            "ticks": ""
                          }
                        },
                        "type": "scatterternary"
                      }
                    ],
                    "surface": [
                      {
                        "colorbar": {
                          "outlinewidth": 0,
                          "ticks": ""
                        },
                        "colorscale": [
                          [
                            0,
                            "#0d0887"
                          ],
                          [
                            0.1111111111111111,
                            "#46039f"
                          ],
                          [
                            0.2222222222222222,
                            "#7201a8"
                          ],
                          [
                            0.3333333333333333,
                            "#9c179e"
                          ],
                          [
                            0.4444444444444444,
                            "#bd3786"
                          ],
                          [
                            0.5555555555555556,
                            "#d8576b"
                          ],
                          [
                            0.6666666666666666,
                            "#ed7953"
                          ],
                          [
                            0.7777777777777778,
                            "#fb9f3a"
                          ],
                          [
                            0.8888888888888888,
                            "#fdca26"
                          ],
                          [
                            1,
                            "#f0f921"
                          ]
                        ],
                        "type": "surface"
                      }
                    ],
                    "table": [
                      {
                        "cells": {
                          "fill": {
                            "color": "#EBF0F8"
                          },
                          "line": {
                            "color": "white"
                          }
                        },
                        "header": {
                          "fill": {
                            "color": "#C8D4E3"
                          },
                          "line": {
                            "color": "white"
                          }
                        },
                        "type": "table"
                      }
                    ]
                  },
                  "layout": {
                    "annotationdefaults": {
                      "arrowcolor": "#2a3f5f",
                      "arrowhead": 0,
                      "arrowwidth": 1
                    },
                    "autotypenumbers": "strict",
                    "coloraxis": {
                      "colorbar": {
                        "outlinewidth": 0,
                        "ticks": ""
                      }
                    },
                    "colorscale": {
                      "diverging": [
                        [
                          0,
                          "#8e0152"
                        ],
                        [
                          0.1,
                          "#c51b7d"
                        ],
                        [
                          0.2,
                          "#de77ae"
                        ],
                        [
                          0.3,
                          "#f1b6da"
                        ],
                        [
                          0.4,
                          "#fde0ef"
                        ],
                        [
                          0.5,
                          "#f7f7f7"
                        ],
                        [
                          0.6,
                          "#e6f5d0"
                        ],
                        [
                          0.7,
                          "#b8e186"
                        ],
                        [
                          0.8,
                          "#7fbc41"
                        ],
                        [
                          0.9,
                          "#4d9221"
                        ],
                        [
                          1,
                          "#276419"
                        ]
                      ],
                      "sequential": [
                        [
                          0,
                          "#0d0887"
                        ],
                        [
                          0.1111111111111111,
                          "#46039f"
                        ],
                        [
                          0.2222222222222222,
                          "#7201a8"
                        ],
                        [
                          0.3333333333333333,
                          "#9c179e"
                        ],
                        [
                          0.4444444444444444,
                          "#bd3786"
                        ],
                        [
                          0.5555555555555556,
                          "#d8576b"
                        ],
                        [
                          0.6666666666666666,
                          "#ed7953"
                        ],
                        [
                          0.7777777777777778,
                          "#fb9f3a"
                        ],
                        [
                          0.8888888888888888,
                          "#fdca26"
                        ],
                        [
                          1,
                          "#f0f921"
                        ]
                      ],
                      "sequentialminus": [
                        [
                          0,
                          "#0d0887"
                        ],
                        [
                          0.1111111111111111,
                          "#46039f"
                        ],
                        [
                          0.2222222222222222,
                          "#7201a8"
                        ],
                        [
                          0.3333333333333333,
                          "#9c179e"
                        ],
                        [
                          0.4444444444444444,
                          "#bd3786"
                        ],
                        [
                          0.5555555555555556,
                          "#d8576b"
                        ],
                        [
                          0.6666666666666666,
                          "#ed7953"
                        ],
                        [
                          0.7777777777777778,
                          "#fb9f3a"
                        ],
                        [
                          0.8888888888888888,
                          "#fdca26"
                        ],
                        [
                          1,
                          "#f0f921"
                        ]
                      ]
                    },
                    "colorway": [
                      "#636efa",
                      "#EF553B",
                      "#00cc96",
                      "#ab63fa",
                      "#FFA15A",
                      "#19d3f3",
                      "#FF6692",
                      "#B6E880",
                      "#FF97FF",
                      "#FECB52"
                    ],
                    "font": {
                      "color": "#2a3f5f"
                    },
                    "geo": {
                      "bgcolor": "white",
                      "lakecolor": "white",
                      "landcolor": "#E5ECF6",
                      "showlakes": true,
                      "showland": true,
                      "subunitcolor": "white"
                    },
                    "hoverlabel": {
                      "align": "left"
                    },
                    "hovermode": "closest",
                    "mapbox": {
                      "style": "light"
                    },
                    "paper_bgcolor": "white",
                    "plot_bgcolor": "#E5ECF6",
                    "polar": {
                      "angularaxis": {
                        "gridcolor": "white",
                        "linecolor": "white",
                        "ticks": ""
                      },
                      "bgcolor": "#E5ECF6",
                      "radialaxis": {
                        "gridcolor": "white",
                        "linecolor": "white",
                        "ticks": ""
                      }
                    },
                    "scene": {
                      "xaxis": {
                        "backgroundcolor": "#E5ECF6",
                        "gridcolor": "white",
                        "gridwidth": 2,
                        "linecolor": "white",
                        "showbackground": true,
                        "ticks": "",
                        "zerolinecolor": "white"
                      },
                      "yaxis": {
                        "backgroundcolor": "#E5ECF6",
                        "gridcolor": "white",
                        "gridwidth": 2,
                        "linecolor": "white",
                        "showbackground": true,
                        "ticks": "",
                        "zerolinecolor": "white"
                      },
                      "zaxis": {
                        "backgroundcolor": "#E5ECF6",
                        "gridcolor": "white",
                        "gridwidth": 2,
                        "linecolor": "white",
                        "showbackground": true,
                        "ticks": "",
                        "zerolinecolor": "white"
                      }
                    },
                    "shapedefaults": {
                      "line": {
                        "color": "#2a3f5f"
                      }
                    },
                    "ternary": {
                      "aaxis": {
                        "gridcolor": "white",
                        "linecolor": "white",
                        "ticks": ""
                      },
                      "baxis": {
                        "gridcolor": "white",
                        "linecolor": "white",
                        "ticks": ""
                      },
                      "bgcolor": "#E5ECF6",
                      "caxis": {
                        "gridcolor": "white",
                        "linecolor": "white",
                        "ticks": ""
                      }
                    },
                    "title": {
                      "x": 0.05
                    },
                    "xaxis": {
                      "automargin": true,
                      "gridcolor": "white",
                      "linecolor": "white",
                      "ticks": "",
                      "title": {
                        "standoff": 15
                      },
                      "zerolinecolor": "white",
                      "zerolinewidth": 2
                    },
                    "yaxis": {
                      "automargin": true,
                      "gridcolor": "white",
                      "linecolor": "white",
                      "ticks": "",
                      "title": {
                        "standoff": 15
                      },
                      "zerolinecolor": "white",
                      "zerolinewidth": 2
                    }
                  }
                },
                "xaxis": {
                  "anchor": "y",
                  "domain": [
                    0,
                    1
                  ],
                  "title": {
                    "text": "GEO"
                  }
                },
                "yaxis": {
                  "anchor": "x",
                  "domain": [
                    0,
                    1
                  ],
                  "title": {
                    "text": "value"
                  }
                }
              }
            }
          },
          "metadata": {}
        }
      ],
      "source": [
        "totalSum = pivedu.sum(axis=1).sort_values(ascending=False)\n",
        "totalSum\n",
        "fig = px.bar(totalSum)\n",
        "\n",
        "\n",
        "fig.show()"
      ]
    }
  ],
  "metadata": {
    "kernelspec": {
      "name": "python3",
      "display_name": "Python 3.8.5 64-bit (conda)",
      "metadata": {
        "interpreter": {
          "hash": "d84f2844bf9952c7acc9e04545150f77402aeb3f3caf8a8353e70fa1b4152aca"
        }
      }
    },
    "language_info": {
      "mimetype": "text/x-python",
      "nbconvert_exporter": "python",
      "name": "python",
      "pygments_lexer": "ipython3",
      "version": "3.8.5-final",
      "file_extension": ".py",
      "codemirror_mode": {
        "version": 3,
        "name": "ipython"
      }
    },
    "pycharm": {
      "stem_cell": {
        "cell_type": "raw",
        "source": [],
        "metadata": {
          "collapsed": false
        }
      }
    }
  },
  "nbformat": 4,
  "nbformat_minor": 2
}